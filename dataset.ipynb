{
 "cells": [
  {
   "cell_type": "code",
   "execution_count": 24,
   "metadata": {
    "id": "lpxOGnVcU_M8"
   },
   "outputs": [],
   "source": [
    "import os\n",
    "import matplotlib.pyplot as plt\n",
    "import numpy as np\n",
    "import pandas as pd\n",
    "import cv2\n",
    "from google.colab.patches import cv2_imshow\n",
    "from PIL import Image as im"
   ]
  },
  {
   "cell_type": "code",
   "execution_count": null,
   "metadata": {
    "id": "8HM6tKTtVGQt"
   },
   "outputs": [],
   "source": [
    "# image shape is 64x64 rgb\n",
    "all_data = np.load(\"/content/drive/MyDrive/Colab Notebooks/data_all.npy\", allow_pickle =True)"
   ]
  },
  {
   "cell_type": "code",
   "execution_count": null,
   "metadata": {
    "id": "zwxEzDcMVIP0"
   },
   "outputs": [],
   "source": [
    "def label(data):\n",
    "    lbll = [] #labels\n",
    "    x = [] # images data\n",
    "    #ft = [] # HOG features\n",
    "    for i in range(0, len(data)):\n",
    "        y = data[i][1]\n",
    "        x_ = data[i][0]\n",
    "        #ft_ = data[i][2]\n",
    "        lbll.append(y)\n",
    "        x.append(x_)\n",
    "        #ft.append(ft_)\n",
    "    return (x, lbll)"
   ]
  },
  {
   "cell_type": "code",
   "execution_count": null,
   "metadata": {
    "id": "mR6rqSd2WAq8"
   },
   "outputs": [],
   "source": [
    "x, y = label(all_data)  # seperate the data labels and images"
   ]
  },
  {
   "cell_type": "code",
   "execution_count": null,
   "metadata": {
    "id": "PFKW5qk7WLVa"
   },
   "outputs": [],
   "source": [
    "CATAGORY = ['A',\n",
    " 'B',\n",
    " 'C',\n",
    " 'C_',\n",
    " 'D',\n",
    " 'E',\n",
    " 'F',\n",
    " 'G',\n",
    " 'H',\n",
    " 'I',\n",
    " 'K',\n",
    " 'L',\n",
    " 'M',\n",
    " 'N',\n",
    " 'O',\n",
    " 'P',\n",
    " 'R',\n",
    " 'S',\n",
    " 'T',\n",
    " 'U',\n",
    " 'V',\n",
    " 'Z']"
   ]
  },
  {
   "cell_type": "code",
   "execution_count": null,
   "metadata": {
    "id": "F5E9mlIRWjK4"
   },
   "outputs": [],
   "source": [
    "A =[]\n",
    "B =[]\n",
    "C =[]\n",
    "C_ =[]  # Ç letter\n",
    "D =[]\n",
    "E =[]\n",
    "F =[]\n",
    "G =[]\n",
    "H =[]\n",
    "I =[]\n",
    "K =[]\n",
    "L =[]\n",
    "M = []\n",
    "N =[]\n",
    "O =[]\n",
    "P =[]\n",
    "R =[]\n",
    "S =[]\n",
    "T =[]\n",
    "U =[]\n",
    "V =[]\n",
    "Z =[]\n",
    "all = []\n",
    "for i in range (0, len(x)):  # Add images in list according to  its label\n",
    "  if y[i]==\"A\":\n",
    "    A.append((x[i],y[i]))\n",
    "\n",
    "  if y[i]==\"B\":\n",
    "    B.append((x[i],y[i]))\n",
    "\n",
    "  if y[i]==\"C\":\n",
    "    C.append((x[i],y[i]))\n",
    "\n",
    "  if y[i]==\"C_\":\n",
    "    C_.append((x[i],y[i]))\n",
    "\n",
    "  if y[i]==\"D\":\n",
    "    D.append((x[i],y[i]))\n",
    "\n",
    "  if y[i]==\"E\":\n",
    "    E.append((x[i],y[i]))\n",
    "\n",
    "  if y[i]==\"F\":\n",
    "    F.append((x[i],y[i]))\n",
    "\n",
    "  if y[i]==\"G\":\n",
    "    G.append((x[i],y[i]))\n",
    "\n",
    "  if y[i]==\"H\":\n",
    "    H.append((x[i],y[i]))\n",
    "\n",
    "  if y[i]==\"I\":\n",
    "    I.append((x[i],y[i]))\n",
    "\n",
    "  if y[i]==\"K\":\n",
    "    K.append((x[i],y[i]))\n",
    "\n",
    "  if y[i]==\"L\":\n",
    "    L.append((x[i],y[i]))\n",
    "\n",
    "  if y[i]==\"M\":\n",
    "    M.append((x[i],y[i]))\n",
    "\n",
    "  if y[i]==\"N\":\n",
    "    N.append((x[i],y[i]))\n",
    "\n",
    "  if y[i]==\"O\":\n",
    "    O.append((x[i],y[i]))\n",
    "\n",
    "  if y[i]==\"P\":\n",
    "    P.append((x[i],y[i]))\n",
    "\n",
    "  if y[i]==\"R\":\n",
    "    R.append((x[i],y[i]))\n",
    "\n",
    "  if y[i]==\"S\":\n",
    "    S.append((x[i],y[i]))\n",
    "\n",
    "  if y[i]==\"T\":\n",
    "    T.append((x[i],y[i]))\n",
    "\n",
    "  if y[i]==\"U\":\n",
    "    U.append((x[i],y[i]))\n",
    "\n",
    "  if y[i]==\"V\":\n",
    "    V.append((x[i],y[i]))\n",
    "\n",
    "  if y[i]==\"Z\":\n",
    "    Z.append((x[i],y[i]))"
   ]
  },
  {
   "cell_type": "code",
   "execution_count": null,
   "metadata": {
    "id": "HaVnIQT4XvAP"
   },
   "outputs": [],
   "source": [
    "item= dict()\n",
    "for i in CATAGORY:\n",
    "  item[i]=None"
   ]
  },
  {
   "cell_type": "code",
   "execution_count": null,
   "metadata": {
    "id": "U9WgyCD4Xysg"
   },
   "outputs": [],
   "source": [
    "item[\"A\"]=A\n",
    "item[\"B\"]=B\n",
    "item[\"C\"]=C\n",
    "item[\"C_\"]=C_   # create a dictionary to matching labels and images\n",
    "item[\"D\"]=D\n",
    "item[\"E\"]=E\n",
    "item[\"F\"]=F\n",
    "item[\"G\"]=G\n",
    "item[\"H\"]=H\n",
    "item[\"I\"]=I\n",
    "item[\"K\"]=K\n",
    "item[\"L\"]=L\n",
    "item[\"M\"]=M\n",
    "item[\"N\"]=N\n",
    "item[\"O\"]=O\n",
    "item[\"P\"]=P\n",
    "item[\"R\"]=R\n",
    "item[\"S\"]=S\n",
    "item[\"T\"]=T\n",
    "item[\"U\"]=U\n",
    "item[\"V\"]=V\n",
    "item[\"Z\"]=Z"
   ]
  },
  {
   "cell_type": "code",
   "execution_count": null,
   "metadata": {
    "id": "I8WFCu_fX6AH"
   },
   "outputs": [],
   "source": [
    "np.save(\"train.npy\",train)\n",
    "np.save(\"test.npy\",test)"
   ]
  }
 ],
 "metadata": {
  "colab": {
   "provenance": []
  },
  "kernelspec": {
   "display_name": "Python 3",
   "language": "python",
   "name": "python3"
  },
  "language_info": {
   "codemirror_mode": {
    "name": "ipython",
    "version": 3
   },
   "file_extension": ".py",
   "mimetype": "text/x-python",
   "name": "python",
   "nbconvert_exporter": "python",
   "pygments_lexer": "ipython3",
   "version": "3.8.3"
  }
 },
 "nbformat": 4,
 "nbformat_minor": 1
}
